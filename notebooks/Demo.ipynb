{
 "cells": [
  {
   "cell_type": "markdown",
   "metadata": {},
   "source": [
    "# Emotion Detection System - Demo\n",
    "\n",
    "This notebook demonstrates the real-time emotion detection system using a pre-trained model.\n",
    "\n",
    "## Import Necessary Libraries"
   ]
  },
  {
   "cell_type": "code",
   "execution_count": null,
   "metadata": {},
   "outputs": [],
   "source": [
    "import cv2\n",
    "import numpy as np\n",
    "import tensorflow as tf\n",
    "from matplotlib import pyplot as plt"
   ]
  },
  {
   "cell_type": "markdown",
   "metadata": {},
   "source": [
    "##Load the Pre-trained Model"
   ]
  },
  {
   "cell_type": "code",
   "execution_count": null,
   "metadata": {},
   "outputs": [],
   "source": [
    "# Load your trained model\n",
    "model = tf.keras.models.load_model('path_to_your_model.h5')\n"
   ]
  },
  {
   "cell_type": "markdown",
   "metadata": {},
   "source": [
    "##Utility Functions for Emotion Detection"
   ]
  },
  {
   "cell_type": "code",
   "execution_count": null,
   "metadata": {},
   "outputs": [],
   "source": [
    "def preprocess_frame(frame):\n",
    "    \"\"\"Preprocess the frame before feeding it to the model.\"\"\"\n",
    "    # Convert frame to grayscale and resize\n",
    "    processed_frame = cv2.cvtColor(frame, cv2.COLOR_BGR2GRAY)\n",
    "    processed_frame = cv2.resize(processed_frame, (48, 48))\n",
    "    # Normalize pixel values\n",
    "    processed_frame = processed_frame / 255.0\n",
    "    return processed_frame.reshape(1, 48, 48, 1)\n",
    "\n",
    "def predict_emotion(preprocessed_frame):\n",
    "    \"\"\"Predict the emotion of the preprocessed frame.\"\"\"\n",
    "    emotions = ['Angry', 'Disgust', 'Fear', 'Happy', 'Sad', 'Surprise', 'Neutral']\n",
    "    prediction = model.predict(preprocessed_frame)\n",
    "    return emotions[np.argmax(prediction)]\n"
   ]
  },
  {
   "cell_type": "markdown",
   "metadata": {},
   "source": [
    "##Initialize Webcam for Real-Time Emotion Detection"
   ]
  },
  {
   "cell_type": "code",
   "execution_count": null,
   "metadata": {},
   "outputs": [],
   "source": [
    "# Initialize Webcam\n",
    "cap = cv2.VideoCapture(0)\n",
    "\n",
    "while True:\n",
    "    ret, frame = cap.read()\n",
    "    if not ret:\n",
    "        break\n",
    "\n",
    "    # Preprocess the frame\n",
    "    preprocessed_frame = preprocess_frame(frame)\n",
    "\n",
    "    # Predict emotion\n",
    "    emotion = predict_emotion(preprocessed_frame)\n",
    "\n",
    "    # Display the detected emotion\n",
    "    cv2.putText(frame, emotion, (50, 50), cv2.FONT_HERSHEY_SIMPLEX, 1, (0, 255, 0), 2, cv2.LINE_AA)\n",
    "    cv2.imshow('Real-Time Emotion Detection', frame)\n",
    "\n",
    "    if cv2.waitKey(1) & 0xFF == ord('q'):\n",
    "        break\n",
    "\n",
    "cap.release()\n",
    "cv2.destroyAllWindows()\n"
   ]
  }
 ],
 "metadata": {
  "language_info": {
   "name": "python"
  },
  "orig_nbformat": 4
 },
 "nbformat": 4,
 "nbformat_minor": 2
}
